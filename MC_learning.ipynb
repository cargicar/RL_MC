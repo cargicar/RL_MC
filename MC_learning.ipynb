{
 "cells": [
  {
   "cell_type": "markdown",
   "metadata": {},
   "source": [
    "# RL MC"
   ]
  },
  {
   "cell_type": "code",
   "execution_count": 1,
   "metadata": {},
   "outputs": [],
   "source": [
    "import numpy as np\n",
    "import gym\n",
    "import time \n",
    "import matplotlib.pyplot as plt\n",
    "import scipy\n",
    "import scipy.signal\n",
    "from functools import partial"
   ]
  },
  {
   "cell_type": "code",
   "execution_count": 2,
   "metadata": {},
   "outputs": [],
   "source": [
    "def EpsilonGreedyPolicy(Q, epsilon, state):\n",
    "    # The smaller the epsilon the greedier the agent:\n",
    "    if np.random.random() > epsilon: \n",
    "        return np.argmax(Q[state]) \n",
    "    else:\n",
    "        #action = np.random.randint(0, env.action_space.n) \n",
    "        return  np.random.randint(0, env.action_space.n) \n"
   ]
  },
  {
   "cell_type": "code",
   "execution_count": 3,
   "metadata": {},
   "outputs": [],
   "source": [
    "# monte carlo \n",
    "class MC(object):\n",
    "    def __init__(self, env, num_states, num_actions, gamma=1, eps=0.1, eps_decay=0.9999, first_visit=True,\n",
    "                  render=True, max_iter=100000):\n",
    "        self.env=env\n",
    "        self.num_states = num_states\n",
    "        self.num_actions = num_actions\n",
    "        self.first_visit = first_visit\n",
    "\n",
    "        self.gamma = gamma\n",
    "        self.eps = eps\n",
    "        self.eps_decay = eps_decay\n",
    "        self.max_iter=max_iter\n",
    "        self.render=render\n",
    "\n",
    "        self.Q = np.random.uniform(low = -1, high = 1, \n",
    "                          size =(self.num_states, self.num_actions))\n",
    "        self.Q_num = np.zeros((self.num_states, self.num_actions))\n",
    "        self.visited_num = np.zeros((self.num_states, self.num_actions))\n",
    "    ###################################################################################################\n",
    "        # one episode containing max_iterations (200 is the max of iteration in the montaincar by default)\n",
    "    def update_Q(self):\n",
    "        \n",
    "        obs = self.env.reset()    \n",
    "        policy = partial(EpsilonGreedyPolicy, self.Q, self.eps)\n",
    "\n",
    "        rewards = []\n",
    "        actions = []\n",
    "        states = []\n",
    "    \n",
    "        for _ in range(self.max_iter):\n",
    "            state_idx = []\n",
    "            flatten_index=0\n",
    "            for ob, lower, upper, num in zip(obs, lower_bounds, upper_bounds, num_states):\n",
    "                state =int(num * (ob - lower) / (upper- lower) )\n",
    "                if state >= num:\n",
    "                    state = num - 1\n",
    "                if state < 0:\n",
    "                    state = 0\n",
    "                state_idx.append(state)\n",
    "\n",
    "            flatten_index=np.ravel_multi_index(state_idx, num_states)\n",
    "        \n",
    "            action = policy(flatten_index)\n",
    "            \n",
    "            # save state and action taken in this step\n",
    "            actions.append(action)\n",
    "            states.append(flatten_index)\n",
    "\n",
    "            if self.render:\n",
    "                env.render()\n",
    "                #time.sleep(0.03)\n",
    "            # take an action    \n",
    "            [obs, reward, done, info] = env.step(action)\n",
    "            # Save the reward after the action has been taken\n",
    "            rewards.append(reward)\n",
    "\n",
    "            if done:\n",
    "                break\n",
    "        ############################################################################\n",
    "        updated_states = set()\n",
    "        discounted_rewards=scipy.signal.lfilter([1],[1,-self.gamma], np.array(rewards)[::-1], axis=0)[::-1]\n",
    "        \n",
    "        for state, action, disc_rew in zip(states, actions, discounted_rewards):\n",
    "\n",
    "            if self.first_visit:\n",
    "                if state in updated_states:\n",
    "                    continue\n",
    "\n",
    "                updated_states.add(state)\n",
    "\n",
    "            # incremental averaging\n",
    "            \n",
    "            # count the number of state-=action pairs visited in this episode\n",
    "            self.Q_num[state, action] += 1\n",
    "            \n",
    "            # compute the average aproximation for the Q-tensor from this episode\n",
    "            self.Q[state, action] += (disc_rew - self.Q[state, action]) / self.Q_num[state, action]\n",
    "            self.visited_num[state, action] += 1\n",
    "            rewards_in_episode= np.sum(np.array(rewards))\n",
    "\n",
    "        self.eps *= self.eps_decay\n",
    "\n",
    "        return rewards_in_episode, self.Q\n",
    "\n"
   ]
  },
  {
   "cell_type": "markdown",
   "metadata": {},
   "source": [
    "<font color='blue'> <font size=4> By default, the montain-car enviroment is capped at 200 iterations by episode, which is not ideal for Monte Carlo, which computes a better average for greater samples per episode. This is because by the law of large numbers, the average reward of a given episode will get closer to the actual average the larger the sample space. To increase the number of iteration in a single episode, we can use a nice feature of open ai gym, which is the \"register\", that allow us to alter some default parameters of the enviorements and define our own: </font>"
   ]
  },
  {
   "cell_type": "code",
   "execution_count": 4,
   "metadata": {},
   "outputs": [],
   "source": [
    "gym.envs.register(\n",
    "    id='MountainCarExtraLong-v0',\n",
    "    entry_point='gym.envs.classic_control:MountainCarEnv',\n",
    "    max_episode_steps=500,\n",
    "    reward_threshold=475.0,\n",
    ")"
   ]
  },
  {
   "cell_type": "code",
   "execution_count": null,
   "metadata": {},
   "outputs": [],
   "source": [
    "#load the enviroment\n",
    "env = gym.make('MountainCarExtraLong-v0')\n",
    "\n",
    "# define the (to be discretized) action-state space\n",
    "num_actions = env.action_space.n   # number of actions of the enviroment, in montain car we have\n",
    "                                   # three actions, acelerate left, right and not acelerate. \n",
    "num_states = [36, 28]              # number of discrete states we want. This can be chance, but increasing it will\n",
    "                                   # also increase the computation cost. \n",
    "lower_bounds = np.array([-12, -7]) # lower value for the position and the velocity (don't mind the units :P)\n",
    "upper_bounds = np.array([6, 7])    # upper value for the position and the velocity\n",
    "\n",
    "\n",
    "state_space_dim = np.prod(np.array(num_states)) # dimension of the state space\n",
    "\n",
    "#  MC(env, num_states, num_actions, gamma=1, eps=0.1, eps_decay=0.9999, first_visit=True,\n",
    "#                  render=True, max_iter=100000):\n",
    "mc = MC(env,state_space_dim , num_actions,eps=0.3, first_visit=True)\n",
    "\n",
    "num_episodes = 100\n",
    "\n",
    "for i in range(num_episodes):\n",
    "    rewards_in_episode, Q= mc.update_Q()\n",
    "    print(\"Rewards in episode %s = %s\" %(i, rewards_in_episode))\n",
    "env.close()"
   ]
  },
  {
   "cell_type": "code",
   "execution_count": 13,
   "metadata": {},
   "outputs": [
    {
     "data": {
      "image/png": "[encoded data removed]",
      "text/plain": [
       "<Figure size 432x288 with 1 Axes>"
      ]
     },
     "metadata": {
      "needs_background": "light"
     },
     "output_type": "display_data"
    }
   ],
   "source": [
    "plt.plot(rewards)\n",
    "plt.title('rewards over episodes')\n",
    "plt.xlabel('episodes')\n",
    "plt.ylabel('reward')\n",
    "plt.show()"
   ]
  },
  {
   "cell_type": "code",
   "execution_count": 15,
   "metadata": {},
   "outputs": [],
   "source": [
    "with open('Q_MC_1.npy', 'wb') as f:\n",
    "    np.save(f, Q)"
   ]
  },
  {
   "cell_type": "markdown",
   "metadata": {},
   "source": [
    "<font color='blue'> <font size=4>Now that we have a succeding version of the Q-tensor, we can just loaded and use without need to running the whole Monte Carlo computation again. </font>"
   ]
  },
  {
   "cell_type": "code",
   "execution_count": 1,
   "metadata": {},
   "outputs": [],
   "source": [
    "import numpy as np\n",
    "import gym\n",
    "import time \n",
    "from functools import partial\n",
    "\n",
    "gym.envs.register(\n",
    "    id='MountainCarExtraLong-v0',\n",
    "    entry_point='gym.envs.classic_control:MountainCarEnv',\n",
    "    max_episode_steps=500,\n",
    "    reward_threshold=475.0,\n",
    ")\n",
    "env = gym.make('MountainCarExtraLong-v0')\n",
    "\n",
    "def EpsilonGreedyPolicy(Q, epsilon, state):\n",
    "\n",
    "    if np.random.random() > epsilon: \n",
    "        return np.argmax(Q[state]) \n",
    "    else:\n",
    "        #action = np.random.randint(0, env.action_space.n) \n",
    "        return  np.random.randint(0, env.action_space.n) "
   ]
  },
  {
   "cell_type": "code",
   "execution_count": 2,
   "metadata": {},
   "outputs": [],
   "source": [
    "with open('Q_MC_1.npy', 'rb') as f:\n",
    "    Q = np.load(f)"
   ]
  },
  {
   "cell_type": "code",
   "execution_count": 3,
   "metadata": {},
   "outputs": [
    {
     "name": "stderr",
     "output_type": "stream",
     "text": [
      "2021-10-08 13:38:00.869 python[24485:2207530] Warning: Expected min height of view: (<NSPopoverTouchBarItemButton: 0x7fbd9c272590>) to be less than or equal to 30 but got a height of 32.000000. This error will be logged once per view in violation.\n",
      "2021-10-08 13:38:00.870 python[24485:2207530] Warning: Expected min height of view: (<NSButton: 0x7fbd936ae060>) to be less than or equal to 30 but got a height of 32.000000. This error will be logged once per view in violation.\n",
      "2021-10-08 13:38:00.874 python[24485:2207530] Warning: Expected min height of view: (<NSPopoverTouchBarItemButton: 0x7fbd936b1d90>) to be less than or equal to 30 but got a height of 32.000000. This error will be logged once per view in violation.\n",
      "2021-10-08 13:38:00.876 python[24485:2207530] Warning: Expected min height of view: (<NSPopoverTouchBarItemButton: 0x7fbd936bc380>) to be less than or equal to 30 but got a height of 32.000000. This error will be logged once per view in violation.\n"
     ]
    }
   ],
   "source": [
    "import time\n",
    "\n",
    "num_steps = 500\n",
    "\n",
    "obs = env.reset()\n",
    "\n",
    "num_actions = env.action_space.n\n",
    "num_states = [36, 28]\n",
    "lower_bounds = np.array([-12, -7])\n",
    "upper_bounds = np.array([6, 7])\n",
    "\n",
    "\n",
    "for _ in range(num_steps):\n",
    "    state_idx = []\n",
    "    flatten_index=0\n",
    "    for ob, lower, upper, num in zip(obs, lower_bounds, upper_bounds, num_states):\n",
    "        state =int(num * (ob - lower) / (upper- lower) )\n",
    "        if state >= num:\n",
    "            state = num - 1\n",
    "        if state < 0:\n",
    "            state = 0\n",
    "        state_idx.append(state)\n",
    "\n",
    "    flatten_index=np.ravel_multi_index(state_idx, num_states)\n",
    "    policy = partial(EpsilonGreedyPolicy, Q, 0)\n",
    "    action = policy(flatten_index)\n",
    "    # apply the action\n",
    "    obs, reward, done, info = env.step(action)\n",
    "    \n",
    "    # Render the env\n",
    "    env.viewer = None\n",
    "    env.render()\n",
    "\n",
    "    # Wait a bit before the next frame unless you want to see a crazy fast video\n",
    "    time.sleep(0.001)\n",
    "    \n",
    "    # If the epsiode is up, then start another one\n",
    "    if done:\n",
    "        obs= env.reset()"
   ]
  },
  {
   "cell_type": "code",
   "execution_count": null,
   "metadata": {},
   "outputs": [],
   "source": []
  }
 ],
 "metadata": {
  "kernelspec": {
   "display_name": "Reinforcement_Learning",
   "language": "python",
   "name": "reinforcement_learning"
  },
  "language_info": {
   "codemirror_mode": {
    "name": "ipython",
    "version": 3
   },
   "file_extension": ".py",
   "mimetype": "text/x-python",
   "name": "python",
   "nbconvert_exporter": "python",
   "pygments_lexer": "ipython3",
   "version": "3.9.6"
  }
 },
 "nbformat": 4,
 "nbformat_minor": 5
}
